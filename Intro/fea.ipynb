{
 "cells": [
  {
   "cell_type": "code",
   "execution_count": 17,
   "metadata": {},
   "outputs": [
    {
     "data": {
      "text/plain": [
       "1"
      ]
     },
     "execution_count": 17,
     "metadata": {},
     "output_type": "execute_result"
    }
   ],
   "source": [
    "# Soma e subtração\n",
    "10 + 4\n",
    "10 - 4\n",
    "\n",
    "# Multiplicação e divisão\n",
    "8 * 2\n",
    "8 / 2\n",
    "\n",
    "# Potência e raiz (exponencial)\n",
    "4**2\n",
    "4**(1/2)\n",
    "\n",
    "# Divisão Inteira (quantas vezes o número consegue dividir pelo outro)\n",
    "100//10\n",
    "\n",
    "# Resto\n",
    "10 % 3"
   ]
  },
  {
   "cell_type": "code",
   "execution_count": 19,
   "metadata": {},
   "outputs": [
    {
     "data": {
      "text/plain": [
       "True"
      ]
     },
     "execution_count": 19,
     "metadata": {},
     "output_type": "execute_result"
    }
   ],
   "source": [
    "# Maior\n",
    "10 > 2\n",
    "\n",
    "# Menor\n",
    "10< 2\n",
    "\n",
    "# Maior ou igual\n",
    "10 >= 2\n",
    "\n",
    "# Menor ou igual\n",
    "10 <= 2\n",
    "\n",
    "# Igual\n",
    "10 == 2\n",
    "\n",
    "# Não igual\n",
    "10 != 2"
   ]
  },
  {
   "cell_type": "code",
   "execution_count": 23,
   "metadata": {},
   "outputs": [
    {
     "data": {
      "text/plain": [
       "3"
      ]
     },
     "execution_count": 23,
     "metadata": {},
     "output_type": "execute_result"
    }
   ],
   "source": [
    "# Variáveis\n",
    "x = 1\n",
    "y = 2\n",
    "\n",
    "x + y"
   ]
  },
  {
   "cell_type": "code",
   "execution_count": 44,
   "metadata": {},
   "outputs": [
    {
     "name": "stdout",
     "output_type": "stream",
     "text": [
      "Aqui cabe uma linha\n",
      "Teste\n",
      "de\n",
      "quebra\n",
      "de\n",
      "linha\n",
      "1\n",
      "Último dígito é 1\n",
      "10 primeiros dígitos são Aqui cabe\n",
      "A partir do 30 uebra\n",
      "de\n",
      "linha\n",
      "1\n",
      " TESTE \n",
      " teste \n",
      "teSte\n",
      "False\n",
      "False\n",
      "3\n",
      " teste \n"
     ]
    }
   ],
   "source": [
    "# Strings\n",
    "\n",
    "texto_simples = \"Aqui cabe uma linha\"\n",
    "\n",
    "texto_com_quebra = \"\"\"\n",
    "Teste\n",
    "de\n",
    "quebra\n",
    "de\n",
    "linha\n",
    "\"\"\"\n",
    "\n",
    "concatenacao = texto_simples + texto_com_quebra + \"1\"\n",
    "\n",
    "print(concatenacao)\n",
    "\n",
    "# Fatiamento\n",
    "print(\"Último dígito é \" + concatenacao[-1])\n",
    "print(\"10 primeiros dígitos são \" + concatenacao[0:9])\n",
    "print(\"A partir do 30 \" + concatenacao[30:])\n",
    "\n",
    "teste = \" teSte \"\n",
    "print(teste.upper())\n",
    "print(teste.lower())\n",
    "print(teste.strip())\n",
    "print(teste.startswith(\"t\"))\n",
    "print(teste.endswith(\"e\"))\n",
    "print(teste.find(\"S\"))\n",
    "print(teste.replace(\"S\",\"s\"))"
   ]
  },
  {
   "cell_type": "code",
   "execution_count": 48,
   "metadata": {},
   "outputs": [
    {
     "name": "stdout",
     "output_type": "stream",
     "text": [
      "34? Tá estragado, em...\n"
     ]
    }
   ],
   "source": [
    "idade = input(\"Quantos anos você tem?\")\n",
    "print(idade + \"? Tá estragado, em...\")"
   ]
  }
 ],
 "metadata": {
  "kernelspec": {
   "display_name": "base",
   "language": "python",
   "name": "python3"
  },
  "language_info": {
   "codemirror_mode": {
    "name": "ipython",
    "version": 3
   },
   "file_extension": ".py",
   "mimetype": "text/x-python",
   "name": "python",
   "nbconvert_exporter": "python",
   "pygments_lexer": "ipython3",
   "version": "3.11.4"
  },
  "orig_nbformat": 4
 },
 "nbformat": 4,
 "nbformat_minor": 2
}
